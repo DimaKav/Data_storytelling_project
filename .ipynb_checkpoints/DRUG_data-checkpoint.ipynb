{
 "cells": [
  {
   "cell_type": "markdown",
   "metadata": {},
   "source": [
    "## Load drug data with selected columns and good memory usage"
   ]
  },
  {
   "cell_type": "code",
   "execution_count": 2,
   "metadata": {},
   "outputs": [],
   "source": [
    "# Imports\n",
    "\n",
    "import pandas as pd\n",
    "import numpy as np\n",
    "import matplotlib.pyplot as plt\n",
    "import seaborn as sns"
   ]
  },
  {
   "cell_type": "code",
   "execution_count": 78,
   "metadata": {},
   "outputs": [],
   "source": [
    "# Load state drug data for 2008 - 2018\n",
    "\n",
    "columns = ['State', 'Year', 'Product Name', 'Quarter']\n",
    "filenames = ['State_Drug_Utilization_Data_' + str(i) + '.csv' for i in range(2008, 2019)]\n",
    "\n",
    "df = pd.concat(pd.read_csv(filename, usecols=columns) \n",
    "               for filename in filenames)"
   ]
  },
  {
   "cell_type": "code",
   "execution_count": 79,
   "metadata": {},
   "outputs": [
    {
     "name": "stdout",
     "output_type": "stream",
     "text": [
      "<class 'pandas.core.frame.DataFrame'>\n",
      "Int64Index: 39752112 entries, 0 to 2365964\n",
      "Data columns (total 4 columns):\n",
      "State           object\n",
      "Year            int64\n",
      "Quarter         int64\n",
      "Product Name    object\n",
      "dtypes: int64(2), object(2)\n",
      "memory usage: 5.5 GB\n"
     ]
    }
   ],
   "source": [
    "df.info(memory_usage='deep')"
   ]
  },
  {
   "cell_type": "code",
   "execution_count": 6,
   "metadata": {},
   "outputs": [
    {
     "data": {
      "text/html": [
       "<div>\n",
       "<style scoped>\n",
       "    .dataframe tbody tr th:only-of-type {\n",
       "        vertical-align: middle;\n",
       "    }\n",
       "\n",
       "    .dataframe tbody tr th {\n",
       "        vertical-align: top;\n",
       "    }\n",
       "\n",
       "    .dataframe thead th {\n",
       "        text-align: right;\n",
       "    }\n",
       "</style>\n",
       "<table border=\"1\" class=\"dataframe\">\n",
       "  <thead>\n",
       "    <tr style=\"text-align: right;\">\n",
       "      <th></th>\n",
       "      <th>State</th>\n",
       "      <th>Year</th>\n",
       "      <th>Quarter</th>\n",
       "      <th>Product Name</th>\n",
       "    </tr>\n",
       "  </thead>\n",
       "  <tbody>\n",
       "    <tr>\n",
       "      <th>360913</th>\n",
       "      <td>CO</td>\n",
       "      <td>2013</td>\n",
       "      <td>4</td>\n",
       "      <td>OPANA ER 7</td>\n",
       "    </tr>\n",
       "    <tr>\n",
       "      <th>622639</th>\n",
       "      <td>FL</td>\n",
       "      <td>2012</td>\n",
       "      <td>4</td>\n",
       "      <td>SERTRALINE</td>\n",
       "    </tr>\n",
       "    <tr>\n",
       "      <th>923990</th>\n",
       "      <td>MN</td>\n",
       "      <td>2018</td>\n",
       "      <td>2</td>\n",
       "      <td>GABAPENTIN</td>\n",
       "    </tr>\n",
       "    <tr>\n",
       "      <th>476187</th>\n",
       "      <td>NM</td>\n",
       "      <td>2010</td>\n",
       "      <td>3</td>\n",
       "      <td>GAVILAX PO</td>\n",
       "    </tr>\n",
       "    <tr>\n",
       "      <th>2126434</th>\n",
       "      <td>CA</td>\n",
       "      <td>2015</td>\n",
       "      <td>1</td>\n",
       "      <td>LISINOPRIL</td>\n",
       "    </tr>\n",
       "  </tbody>\n",
       "</table>\n",
       "</div>"
      ],
      "text/plain": [
       "        State  Year  Quarter Product Name\n",
       "360913     CO  2013        4   OPANA ER 7\n",
       "622639     FL  2012        4   SERTRALINE\n",
       "923990     MN  2018        2   GABAPENTIN\n",
       "476187     NM  2010        3   GAVILAX PO\n",
       "2126434    CA  2015        1   LISINOPRIL"
      ]
     },
     "execution_count": 6,
     "metadata": {},
     "output_type": "execute_result"
    }
   ],
   "source": [
    "df.sample(5)"
   ]
  },
  {
   "cell_type": "code",
   "execution_count": 80,
   "metadata": {},
   "outputs": [],
   "source": [
    "# Convert non-numeric columns to category to save memory\n",
    "\n",
    "df[['State', 'Product Name', 'Quarter']] = df[['State',\n",
    "                                               'Product Name', \n",
    "                                               'Quarter']].astype('category')"
   ]
  },
  {
   "cell_type": "code",
   "execution_count": 81,
   "metadata": {},
   "outputs": [
    {
     "name": "stdout",
     "output_type": "stream",
     "text": [
      "<class 'pandas.core.frame.DataFrame'>\n",
      "Int64Index: 39752112 entries, 0 to 2365964\n",
      "Data columns (total 4 columns):\n",
      "State           category\n",
      "Year            int64\n",
      "Quarter         category\n",
      "Product Name    category\n",
      "dtypes: category(3), int64(1)\n",
      "memory usage: 837.4 MB\n"
     ]
    }
   ],
   "source": [
    "df.info(memory_usage='deep')"
   ]
  },
  {
   "cell_type": "code",
   "execution_count": 141,
   "metadata": {},
   "outputs": [],
   "source": [
    "# TODO:\n",
    "# 2. Do some frequency count plots\n",
    "# 3. See which states use which drugs\n",
    "# 4. Come up with some more questions"
   ]
  },
  {
   "cell_type": "markdown",
   "metadata": {},
   "source": [
    "## Take care of the missing values in Product Name"
   ]
  },
  {
   "cell_type": "code",
   "execution_count": 99,
   "metadata": {},
   "outputs": [
    {
     "name": "stdout",
     "output_type": "stream",
     "text": [
      "3311\n",
      "State              0\n",
      "Year               0\n",
      "Quarter            0\n",
      "Product Name    5854\n",
      "dtype: int64\n"
     ]
    }
   ],
   "source": [
    "# We have 3311 ?'s and 5854 NaNs\n",
    "\n",
    "print((df['Product Name'] == '?').sum())\n",
    "print(df.isna().sum())\n",
    "\n",
    "# Replace ? with nan\n",
    "\n",
    "df = df.replace('?', np.NaN)"
   ]
  },
  {
   "cell_type": "code",
   "execution_count": 100,
   "metadata": {},
   "outputs": [
    {
     "data": {
      "text/plain": [
       "9165"
      ]
     },
     "execution_count": 100,
     "metadata": {},
     "output_type": "execute_result"
    }
   ],
   "source": [
    "df.isna().sum().sum()"
   ]
  },
  {
   "cell_type": "code",
   "execution_count": 70,
   "metadata": {},
   "outputs": [
    {
     "data": {
      "text/plain": [
       "(39752112, 4)"
      ]
     },
     "execution_count": 70,
     "metadata": {},
     "output_type": "execute_result"
    }
   ],
   "source": [
    "# Figure out what to do with the NaNs\n",
    "# are they even relevant?\n",
    "\n",
    "df.shape\n",
    "\n",
    "# Nope, let's drop them\n",
    "\n",
    "df['Product Name'].dropna(axis='index', inplace=True)"
   ]
  },
  {
   "cell_type": "code",
   "execution_count": 103,
   "metadata": {},
   "outputs": [
    {
     "data": {
      "text/plain": [
       "0"
      ]
     },
     "execution_count": 103,
     "metadata": {},
     "output_type": "execute_result"
    }
   ],
   "source": [
    "# Just drop the nans, there aren't very many of them\n",
    "\n",
    "df = df.dropna(subset=['Product Name'])\n",
    "df.isna().sum().sum()"
   ]
  },
  {
   "cell_type": "markdown",
   "metadata": {},
   "source": [
    "\n",
    "## What drugs are people on and why?\n",
    "\n",
    "This dataset will let us see the types of drugs people are taking by state, year, and time of year."
   ]
  },
  {
   "cell_type": "code",
   "execution_count": 17,
   "metadata": {},
   "outputs": [
    {
     "data": {
      "text/html": [
       "<div>\n",
       "<style scoped>\n",
       "    .dataframe tbody tr th:only-of-type {\n",
       "        vertical-align: middle;\n",
       "    }\n",
       "\n",
       "    .dataframe tbody tr th {\n",
       "        vertical-align: top;\n",
       "    }\n",
       "\n",
       "    .dataframe thead th {\n",
       "        text-align: right;\n",
       "    }\n",
       "</style>\n",
       "<table border=\"1\" class=\"dataframe\">\n",
       "  <thead>\n",
       "    <tr style=\"text-align: right;\">\n",
       "      <th></th>\n",
       "      <th>Year</th>\n",
       "    </tr>\n",
       "  </thead>\n",
       "  <tbody>\n",
       "    <tr>\n",
       "      <th>Year</th>\n",
       "      <td>1.0</td>\n",
       "    </tr>\n",
       "  </tbody>\n",
       "</table>\n",
       "</div>"
      ],
      "text/plain": [
       "      Year\n",
       "Year   1.0"
      ]
     },
     "execution_count": 17,
     "metadata": {},
     "output_type": "execute_result"
    }
   ],
   "source": [
    "# Pearson correlation only shows numeric\n",
    "\n",
    "df.corr()"
   ]
  },
  {
   "cell_type": "code",
   "execution_count": 104,
   "metadata": {},
   "outputs": [
    {
     "data": {
      "text/html": [
       "<div>\n",
       "<style scoped>\n",
       "    .dataframe tbody tr th:only-of-type {\n",
       "        vertical-align: middle;\n",
       "    }\n",
       "\n",
       "    .dataframe tbody tr th {\n",
       "        vertical-align: top;\n",
       "    }\n",
       "\n",
       "    .dataframe thead th {\n",
       "        text-align: right;\n",
       "    }\n",
       "</style>\n",
       "<table border=\"1\" class=\"dataframe\">\n",
       "  <thead>\n",
       "    <tr style=\"text-align: right;\">\n",
       "      <th></th>\n",
       "      <th>State</th>\n",
       "      <th>Year</th>\n",
       "      <th>Quarter</th>\n",
       "      <th>Product Name</th>\n",
       "    </tr>\n",
       "  </thead>\n",
       "  <tbody>\n",
       "    <tr>\n",
       "      <th>State</th>\n",
       "      <td>1.000000</td>\n",
       "      <td>0.008391</td>\n",
       "      <td>-0.000460</td>\n",
       "      <td>-0.003824</td>\n",
       "    </tr>\n",
       "    <tr>\n",
       "      <th>Year</th>\n",
       "      <td>0.008391</td>\n",
       "      <td>1.000000</td>\n",
       "      <td>0.007648</td>\n",
       "      <td>0.186628</td>\n",
       "    </tr>\n",
       "    <tr>\n",
       "      <th>Quarter</th>\n",
       "      <td>-0.000460</td>\n",
       "      <td>0.007648</td>\n",
       "      <td>1.000000</td>\n",
       "      <td>-0.004931</td>\n",
       "    </tr>\n",
       "    <tr>\n",
       "      <th>Product Name</th>\n",
       "      <td>-0.003824</td>\n",
       "      <td>0.186628</td>\n",
       "      <td>-0.004931</td>\n",
       "      <td>1.000000</td>\n",
       "    </tr>\n",
       "  </tbody>\n",
       "</table>\n",
       "</div>"
      ],
      "text/plain": [
       "                 State      Year   Quarter  Product Name\n",
       "State         1.000000  0.008391 -0.000460     -0.003824\n",
       "Year          0.008391  1.000000  0.007648      0.186628\n",
       "Quarter      -0.000460  0.007648  1.000000     -0.004931\n",
       "Product Name -0.003824  0.186628 -0.004931      1.000000"
      ]
     },
     "execution_count": 104,
     "metadata": {},
     "output_type": "execute_result"
    }
   ],
   "source": [
    "# Factorize into numbers for non-numeric correlations\n",
    "\n",
    "df.apply(lambda x: x.factorize()[0]).corr()"
   ]
  },
  {
   "cell_type": "code",
   "execution_count": null,
   "metadata": {},
   "outputs": [],
   "source": []
  }
 ],
 "metadata": {
  "kernelspec": {
   "display_name": "Python 3",
   "language": "python",
   "name": "python3"
  },
  "language_info": {
   "codemirror_mode": {
    "name": "ipython",
    "version": 3
   },
   "file_extension": ".py",
   "mimetype": "text/x-python",
   "name": "python",
   "nbconvert_exporter": "python",
   "pygments_lexer": "ipython3",
   "version": "3.6.8"
  }
 },
 "nbformat": 4,
 "nbformat_minor": 2
}
