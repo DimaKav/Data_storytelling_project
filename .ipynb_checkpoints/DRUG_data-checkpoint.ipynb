{
 "cells": [
  {
   "cell_type": "markdown",
   "metadata": {},
   "source": [
    "## Load drug data with selected columns and good memory usage"
   ]
  },
  {
   "cell_type": "markdown",
   "metadata": {},
   "source": [
    "**Workflow**\n",
    "\n",
    "1. Load the data\n",
    "2. Clean it:\n",
    "    * get rid of missing values\n",
    "    * change column names\n",
    "    * change dtypes for better memory use\n",
    "3. Analyze it\n",
    "\n",
    "**Data description**\n",
    "\n",
    "Outpatient prescription drugs paid for by state medicaid agencies.\n",
    "\n",
    "**Notes**\n",
    "\n",
    "* U.S. population: 325 million.\n",
    "* 70 million people are on medicaid, that's just over 1/5th of the population.\n",
    "* 40 million are on medicare.\n",
    "* 8% of people are not insured.\n",
    "* 37.7% are on government healthcare, 67% are on private health coverage.\n",
    "* Out of private, employer based accounts for 56%.\n",
    "\n",
    "\n",
    "**Sources**\n",
    "\n",
    "- https://www.census.gov/library/publications/2018/demo/p60-264.html\n",
    "- https://data.medicaid.gov/State-Drug-Utilization/State-Drug-Utilization-Data-2017/3v5r-x5x9\n"
   ]
  },
  {
   "cell_type": "code",
   "execution_count": 136,
   "metadata": {},
   "outputs": [],
   "source": [
    "# Imports\n",
    "\n",
    "import pandas as pd\n",
    "import numpy as np\n",
    "import matplotlib.pyplot as plt\n",
    "import seaborn as sns"
   ]
  },
  {
   "cell_type": "code",
   "execution_count": 202,
   "metadata": {},
   "outputs": [
    {
     "data": {
      "text/html": [
       "<div>\n",
       "<style scoped>\n",
       "    .dataframe tbody tr th:only-of-type {\n",
       "        vertical-align: middle;\n",
       "    }\n",
       "\n",
       "    .dataframe tbody tr th {\n",
       "        vertical-align: top;\n",
       "    }\n",
       "\n",
       "    .dataframe thead th {\n",
       "        text-align: right;\n",
       "    }\n",
       "</style>\n",
       "<table border=\"1\" class=\"dataframe\">\n",
       "  <thead>\n",
       "    <tr style=\"text-align: right;\">\n",
       "      <th></th>\n",
       "      <th>Utilization Type</th>\n",
       "      <th>State</th>\n",
       "      <th>Labeler Code</th>\n",
       "      <th>Product Code</th>\n",
       "      <th>Package Size</th>\n",
       "      <th>Year</th>\n",
       "      <th>Quarter</th>\n",
       "      <th>Product Name</th>\n",
       "      <th>Units Reimbursed</th>\n",
       "      <th>Suppression Used</th>\n",
       "      <th>Number of Prescriptions</th>\n",
       "      <th>Total Amount Reimbursed</th>\n",
       "      <th>Medicaid Amount Reimbursed</th>\n",
       "      <th>Non Medicaid Amount Reimbursed</th>\n",
       "      <th>Quarter Begin</th>\n",
       "      <th>Quarter Begin Date</th>\n",
       "      <th>Latitude</th>\n",
       "      <th>Longitude</th>\n",
       "      <th>Location</th>\n",
       "      <th>NDC</th>\n",
       "    </tr>\n",
       "  </thead>\n",
       "  <tbody>\n",
       "    <tr>\n",
       "      <th>31482</th>\n",
       "      <td>FFSU</td>\n",
       "      <td>TX</td>\n",
       "      <td>93</td>\n",
       "      <td>7304</td>\n",
       "      <td>65</td>\n",
       "      <td>2008</td>\n",
       "      <td>1</td>\n",
       "      <td>MIRTAZAPIN</td>\n",
       "      <td>1501.0</td>\n",
       "      <td>False</td>\n",
       "      <td>32.0</td>\n",
       "      <td>3318.06</td>\n",
       "      <td>3318.06</td>\n",
       "      <td>0.0</td>\n",
       "      <td>1/1</td>\n",
       "      <td>01/01/2008</td>\n",
       "      <td>31.106</td>\n",
       "      <td>-97.6475</td>\n",
       "      <td>(31.106, -97.6475)</td>\n",
       "      <td>00093730465</td>\n",
       "    </tr>\n",
       "  </tbody>\n",
       "</table>\n",
       "</div>"
      ],
      "text/plain": [
       "      Utilization Type State  Labeler Code  Product Code Package Size  Year  \\\n",
       "31482             FFSU    TX            93          7304           65  2008   \n",
       "\n",
       "       Quarter Product Name  Units Reimbursed  Suppression Used  \\\n",
       "31482        1   MIRTAZAPIN            1501.0             False   \n",
       "\n",
       "       Number of Prescriptions  Total Amount Reimbursed  \\\n",
       "31482                     32.0                  3318.06   \n",
       "\n",
       "       Medicaid Amount Reimbursed  Non Medicaid Amount Reimbursed  \\\n",
       "31482                     3318.06                             0.0   \n",
       "\n",
       "      Quarter Begin Quarter Begin Date  Latitude  Longitude  \\\n",
       "31482           1/1         01/01/2008    31.106   -97.6475   \n",
       "\n",
       "                 Location          NDC  \n",
       "31482  (31.106, -97.6475)  00093730465  "
      ]
     },
     "execution_count": 202,
     "metadata": {},
     "output_type": "execute_result"
    }
   ],
   "source": [
    "# Check available features\n",
    "\n",
    "df2008 = pd.read_csv('State_Drug_Utilization_Data_2008.csv', low_memory=False)\n",
    "df2008.sample()"
   ]
  },
  {
   "cell_type": "code",
   "execution_count": 161,
   "metadata": {},
   "outputs": [],
   "source": [
    "# Load state drug data for 2008 - 2018\n",
    "\n",
    "columns = ['State', 'Year', 'Product Name', 'Quarter', 'Number of Prescriptions']\n",
    "filenames = ['State_Drug_Utilization_Data_' + str(i) + '.csv' for i in range(2008, 2019)]\n",
    "\n",
    "df = pd.concat(pd.read_csv(filename, usecols=columns) \n",
    "               for filename in filenames)"
   ]
  },
  {
   "cell_type": "code",
   "execution_count": 162,
   "metadata": {},
   "outputs": [
    {
     "name": "stdout",
     "output_type": "stream",
     "text": [
      "<class 'pandas.core.frame.DataFrame'>\n",
      "Int64Index: 39752112 entries, 0 to 2365964\n",
      "Data columns (total 5 columns):\n",
      "State                      object\n",
      "Year                       int64\n",
      "Quarter                    int64\n",
      "Product Name               object\n",
      "Number of Prescriptions    float64\n",
      "dtypes: float64(1), int64(2), object(2)\n",
      "memory usage: 1.8+ GB\n"
     ]
    }
   ],
   "source": [
    "df.info()"
   ]
  },
  {
   "cell_type": "code",
   "execution_count": 163,
   "metadata": {},
   "outputs": [
    {
     "data": {
      "text/html": [
       "<div>\n",
       "<style scoped>\n",
       "    .dataframe tbody tr th:only-of-type {\n",
       "        vertical-align: middle;\n",
       "    }\n",
       "\n",
       "    .dataframe tbody tr th {\n",
       "        vertical-align: top;\n",
       "    }\n",
       "\n",
       "    .dataframe thead th {\n",
       "        text-align: right;\n",
       "    }\n",
       "</style>\n",
       "<table border=\"1\" class=\"dataframe\">\n",
       "  <thead>\n",
       "    <tr style=\"text-align: right;\">\n",
       "      <th></th>\n",
       "      <th>State</th>\n",
       "      <th>Year</th>\n",
       "      <th>Quarter</th>\n",
       "      <th>Product Name</th>\n",
       "      <th>Number of Prescriptions</th>\n",
       "    </tr>\n",
       "  </thead>\n",
       "  <tbody>\n",
       "    <tr>\n",
       "      <th>1394159</th>\n",
       "      <td>ME</td>\n",
       "      <td>2012</td>\n",
       "      <td>4</td>\n",
       "      <td>HEPARIN SO</td>\n",
       "      <td>NaN</td>\n",
       "    </tr>\n",
       "    <tr>\n",
       "      <th>876955</th>\n",
       "      <td>MD</td>\n",
       "      <td>2009</td>\n",
       "      <td>3</td>\n",
       "      <td>FUROSEMIDE</td>\n",
       "      <td>NaN</td>\n",
       "    </tr>\n",
       "    <tr>\n",
       "      <th>1522222</th>\n",
       "      <td>MA</td>\n",
       "      <td>2018</td>\n",
       "      <td>1</td>\n",
       "      <td>DOXYCYCLIN</td>\n",
       "      <td>183.0</td>\n",
       "    </tr>\n",
       "    <tr>\n",
       "      <th>4034705</th>\n",
       "      <td>MS</td>\n",
       "      <td>2016</td>\n",
       "      <td>4</td>\n",
       "      <td>GUAIFENESI</td>\n",
       "      <td>NaN</td>\n",
       "    </tr>\n",
       "    <tr>\n",
       "      <th>1325853</th>\n",
       "      <td>MD</td>\n",
       "      <td>2015</td>\n",
       "      <td>4</td>\n",
       "      <td>CLARITHROM</td>\n",
       "      <td>151.0</td>\n",
       "    </tr>\n",
       "  </tbody>\n",
       "</table>\n",
       "</div>"
      ],
      "text/plain": [
       "        State  Year  Quarter Product Name  Number of Prescriptions\n",
       "1394159    ME  2012        4   HEPARIN SO                      NaN\n",
       "876955     MD  2009        3   FUROSEMIDE                      NaN\n",
       "1522222    MA  2018        1   DOXYCYCLIN                    183.0\n",
       "4034705    MS  2016        4   GUAIFENESI                      NaN\n",
       "1325853    MD  2015        4   CLARITHROM                    151.0"
      ]
     },
     "execution_count": 163,
     "metadata": {},
     "output_type": "execute_result"
    }
   ],
   "source": [
    "df.sample(5)"
   ]
  },
  {
   "cell_type": "code",
   "execution_count": 164,
   "metadata": {},
   "outputs": [],
   "source": [
    "# Convert non-numeric columns to category to save memory\n",
    "\n",
    "df[['State', 'Product Name', 'Quarter', \n",
    "    'Number of Prescriptions']] = df[['State','Product Name', \n",
    "                                      'Quarter','Number of Prescriptions']].astype('category')"
   ]
  },
  {
   "cell_type": "code",
   "execution_count": 165,
   "metadata": {},
   "outputs": [
    {
     "name": "stdout",
     "output_type": "stream",
     "text": [
      "<class 'pandas.core.frame.DataFrame'>\n",
      "Int64Index: 39752112 entries, 0 to 2365964\n",
      "Data columns (total 5 columns):\n",
      "State                      category\n",
      "Year                       int64\n",
      "Quarter                    category\n",
      "Product Name               category\n",
      "Number of Prescriptions    category\n",
      "dtypes: category(4), int64(1)\n",
      "memory usage: 990.2 MB\n"
     ]
    }
   ],
   "source": [
    "df.info()"
   ]
  },
  {
   "cell_type": "code",
   "execution_count": 176,
   "metadata": {},
   "outputs": [
    {
     "data": {
      "text/html": [
       "<div>\n",
       "<style scoped>\n",
       "    .dataframe tbody tr th:only-of-type {\n",
       "        vertical-align: middle;\n",
       "    }\n",
       "\n",
       "    .dataframe tbody tr th {\n",
       "        vertical-align: top;\n",
       "    }\n",
       "\n",
       "    .dataframe thead th {\n",
       "        text-align: right;\n",
       "    }\n",
       "</style>\n",
       "<table border=\"1\" class=\"dataframe\">\n",
       "  <thead>\n",
       "    <tr style=\"text-align: right;\">\n",
       "      <th></th>\n",
       "      <th>State</th>\n",
       "      <th>Year</th>\n",
       "      <th>Quarter</th>\n",
       "      <th>Product Name</th>\n",
       "      <th>Number of Prescriptions</th>\n",
       "    </tr>\n",
       "  </thead>\n",
       "  <tbody>\n",
       "    <tr>\n",
       "      <th>count</th>\n",
       "      <td>39742947</td>\n",
       "      <td>3.974295e+07</td>\n",
       "      <td>39742947.0</td>\n",
       "      <td>39742947</td>\n",
       "      <td>19525887.0</td>\n",
       "    </tr>\n",
       "    <tr>\n",
       "      <th>unique</th>\n",
       "      <td>52</td>\n",
       "      <td>NaN</td>\n",
       "      <td>4.0</td>\n",
       "      <td>32846</td>\n",
       "      <td>62371.0</td>\n",
       "    </tr>\n",
       "    <tr>\n",
       "      <th>top</th>\n",
       "      <td>XX</td>\n",
       "      <td>NaN</td>\n",
       "      <td>2.0</td>\n",
       "      <td>LISINOPRIL</td>\n",
       "      <td>15.0</td>\n",
       "    </tr>\n",
       "    <tr>\n",
       "      <th>freq</th>\n",
       "      <td>2388838</td>\n",
       "      <td>NaN</td>\n",
       "      <td>10529308.0</td>\n",
       "      <td>460165</td>\n",
       "      <td>362038.0</td>\n",
       "    </tr>\n",
       "    <tr>\n",
       "      <th>mean</th>\n",
       "      <td>NaN</td>\n",
       "      <td>2.013430e+03</td>\n",
       "      <td>NaN</td>\n",
       "      <td>NaN</td>\n",
       "      <td>NaN</td>\n",
       "    </tr>\n",
       "    <tr>\n",
       "      <th>std</th>\n",
       "      <td>NaN</td>\n",
       "      <td>2.884924e+00</td>\n",
       "      <td>NaN</td>\n",
       "      <td>NaN</td>\n",
       "      <td>NaN</td>\n",
       "    </tr>\n",
       "    <tr>\n",
       "      <th>min</th>\n",
       "      <td>NaN</td>\n",
       "      <td>2.008000e+03</td>\n",
       "      <td>NaN</td>\n",
       "      <td>NaN</td>\n",
       "      <td>NaN</td>\n",
       "    </tr>\n",
       "    <tr>\n",
       "      <th>25%</th>\n",
       "      <td>NaN</td>\n",
       "      <td>2.011000e+03</td>\n",
       "      <td>NaN</td>\n",
       "      <td>NaN</td>\n",
       "      <td>NaN</td>\n",
       "    </tr>\n",
       "    <tr>\n",
       "      <th>50%</th>\n",
       "      <td>NaN</td>\n",
       "      <td>2.014000e+03</td>\n",
       "      <td>NaN</td>\n",
       "      <td>NaN</td>\n",
       "      <td>NaN</td>\n",
       "    </tr>\n",
       "    <tr>\n",
       "      <th>75%</th>\n",
       "      <td>NaN</td>\n",
       "      <td>2.016000e+03</td>\n",
       "      <td>NaN</td>\n",
       "      <td>NaN</td>\n",
       "      <td>NaN</td>\n",
       "    </tr>\n",
       "    <tr>\n",
       "      <th>max</th>\n",
       "      <td>NaN</td>\n",
       "      <td>2.018000e+03</td>\n",
       "      <td>NaN</td>\n",
       "      <td>NaN</td>\n",
       "      <td>NaN</td>\n",
       "    </tr>\n",
       "  </tbody>\n",
       "</table>\n",
       "</div>"
      ],
      "text/plain": [
       "           State          Year     Quarter Product Name  \\\n",
       "count   39742947  3.974295e+07  39742947.0     39742947   \n",
       "unique        52           NaN         4.0        32846   \n",
       "top           XX           NaN         2.0   LISINOPRIL   \n",
       "freq     2388838           NaN  10529308.0       460165   \n",
       "mean         NaN  2.013430e+03         NaN          NaN   \n",
       "std          NaN  2.884924e+00         NaN          NaN   \n",
       "min          NaN  2.008000e+03         NaN          NaN   \n",
       "25%          NaN  2.011000e+03         NaN          NaN   \n",
       "50%          NaN  2.014000e+03         NaN          NaN   \n",
       "75%          NaN  2.016000e+03         NaN          NaN   \n",
       "max          NaN  2.018000e+03         NaN          NaN   \n",
       "\n",
       "        Number of Prescriptions  \n",
       "count                19525887.0  \n",
       "unique                  62371.0  \n",
       "top                        15.0  \n",
       "freq                   362038.0  \n",
       "mean                        NaN  \n",
       "std                         NaN  \n",
       "min                         NaN  \n",
       "25%                         NaN  \n",
       "50%                         NaN  \n",
       "75%                         NaN  \n",
       "max                         NaN  "
      ]
     },
     "execution_count": 176,
     "metadata": {},
     "output_type": "execute_result"
    }
   ],
   "source": [
    "df.describe(include='all')"
   ]
  },
  {
   "cell_type": "code",
   "execution_count": 141,
   "metadata": {},
   "outputs": [],
   "source": [
    "# TODO:\n",
    "# 2. Do some frequency count plots\n",
    "# 3. See which states use which drugs\n",
    "# 4. Come up with some more questions"
   ]
  },
  {
   "cell_type": "markdown",
   "metadata": {},
   "source": [
    "## Take care of the missing values in Product Name"
   ]
  },
  {
   "cell_type": "code",
   "execution_count": 166,
   "metadata": {},
   "outputs": [
    {
     "name": "stdout",
     "output_type": "stream",
     "text": [
      "3311\n",
      "State                             0\n",
      "Year                              0\n",
      "Quarter                           0\n",
      "Product Name                   5854\n",
      "Number of Prescriptions    20225364\n",
      "dtype: int64\n"
     ]
    }
   ],
   "source": [
    "# We have 3311 ?'s and 5854 NaNs\n",
    "\n",
    "print((df['Product Name'] == '?').sum())\n",
    "print(df.isna().sum())\n",
    "\n",
    "# Replace ? with nan\n",
    "\n",
    "df = df.replace('?', np.NaN)"
   ]
  },
  {
   "cell_type": "code",
   "execution_count": 169,
   "metadata": {},
   "outputs": [
    {
     "data": {
      "text/plain": [
       "State                             0\n",
       "Year                              0\n",
       "Quarter                           0\n",
       "Product Name                   9165\n",
       "Number of Prescriptions    20225364\n",
       "dtype: int64"
      ]
     },
     "execution_count": 169,
     "metadata": {},
     "output_type": "execute_result"
    }
   ],
   "source": [
    "df.isna().sum()"
   ]
  },
  {
   "cell_type": "code",
   "execution_count": 170,
   "metadata": {},
   "outputs": [
    {
     "data": {
      "text/plain": [
       "State                             0\n",
       "Year                              0\n",
       "Quarter                           0\n",
       "Product Name                      0\n",
       "Number of Prescriptions    20217060\n",
       "dtype: int64"
      ]
     },
     "execution_count": 170,
     "metadata": {},
     "output_type": "execute_result"
    }
   ],
   "source": [
    "# Just drop the nans, there aren't very many of them\n",
    "\n",
    "df = df.dropna(subset=['Product Name'])\n",
    "df.isna().sum()"
   ]
  },
  {
   "cell_type": "markdown",
   "metadata": {},
   "source": [
    "\n",
    "## What drugs are people on and why are they on them?\n",
    "\n",
    "This dataset will let us see the types of drugs people are taking in the U.S. by state, year, and time of year."
   ]
  },
  {
   "cell_type": "code",
   "execution_count": 171,
   "metadata": {},
   "outputs": [
    {
     "data": {
      "text/html": [
       "<div>\n",
       "<style scoped>\n",
       "    .dataframe tbody tr th:only-of-type {\n",
       "        vertical-align: middle;\n",
       "    }\n",
       "\n",
       "    .dataframe tbody tr th {\n",
       "        vertical-align: top;\n",
       "    }\n",
       "\n",
       "    .dataframe thead th {\n",
       "        text-align: right;\n",
       "    }\n",
       "</style>\n",
       "<table border=\"1\" class=\"dataframe\">\n",
       "  <thead>\n",
       "    <tr style=\"text-align: right;\">\n",
       "      <th></th>\n",
       "      <th>Year</th>\n",
       "    </tr>\n",
       "  </thead>\n",
       "  <tbody>\n",
       "    <tr>\n",
       "      <th>Year</th>\n",
       "      <td>1.0</td>\n",
       "    </tr>\n",
       "  </tbody>\n",
       "</table>\n",
       "</div>"
      ],
      "text/plain": [
       "      Year\n",
       "Year   1.0"
      ]
     },
     "execution_count": 171,
     "metadata": {},
     "output_type": "execute_result"
    }
   ],
   "source": [
    "# Pearson correlation only shows numeric\n",
    "\n",
    "df.corr()"
   ]
  },
  {
   "cell_type": "code",
   "execution_count": 172,
   "metadata": {},
   "outputs": [
    {
     "data": {
      "image/png": "[encoded data removed]",
      "text/plain": [
       "<Figure size 432x288 with 2 Axes>"
      ]
     },
     "metadata": {},
     "output_type": "display_data"
    }
   ],
   "source": [
    "# Factorize into numbers for non-numeric correlations\n",
    "\n",
    "sns.heatmap(df.apply(lambda x: x.factorize()[0]).corr());"
   ]
  },
  {
   "cell_type": "code",
   "execution_count": 181,
   "metadata": {},
   "outputs": [],
   "source": [
    "# XX are aggregated entries, remove them\n",
    "\n",
    "df = df[df.State != 'XX']"
   ]
  },
  {
   "cell_type": "code",
   "execution_count": 203,
   "metadata": {},
   "outputs": [
    {
     "data": {
      "text/html": [
       "<div>\n",
       "<style scoped>\n",
       "    .dataframe tbody tr th:only-of-type {\n",
       "        vertical-align: middle;\n",
       "    }\n",
       "\n",
       "    .dataframe tbody tr th {\n",
       "        vertical-align: top;\n",
       "    }\n",
       "\n",
       "    .dataframe thead th {\n",
       "        text-align: right;\n",
       "    }\n",
       "</style>\n",
       "<table border=\"1\" class=\"dataframe\">\n",
       "  <thead>\n",
       "    <tr style=\"text-align: right;\">\n",
       "      <th></th>\n",
       "      <th>State</th>\n",
       "      <th>Year</th>\n",
       "      <th>Quarter</th>\n",
       "      <th>Product Name</th>\n",
       "      <th>Number of Prescriptions</th>\n",
       "    </tr>\n",
       "  </thead>\n",
       "  <tbody>\n",
       "    <tr>\n",
       "      <th>1330804</th>\n",
       "      <td>CA</td>\n",
       "      <td>2018</td>\n",
       "      <td>1</td>\n",
       "      <td>VENTOLIN H</td>\n",
       "      <td>472466.0</td>\n",
       "    </tr>\n",
       "    <tr>\n",
       "      <th>4700770</th>\n",
       "      <td>CA</td>\n",
       "      <td>2017</td>\n",
       "      <td>4</td>\n",
       "      <td>VENTOLIN H</td>\n",
       "      <td>452749.0</td>\n",
       "    </tr>\n",
       "    <tr>\n",
       "      <th>4478001</th>\n",
       "      <td>CA</td>\n",
       "      <td>2017</td>\n",
       "      <td>1</td>\n",
       "      <td>VENTOLIN H</td>\n",
       "      <td>449214.0</td>\n",
       "    </tr>\n",
       "    <tr>\n",
       "      <th>122514</th>\n",
       "      <td>NY</td>\n",
       "      <td>2016</td>\n",
       "      <td>1</td>\n",
       "      <td>VENTOLIN H</td>\n",
       "      <td>418169.0</td>\n",
       "    </tr>\n",
       "    <tr>\n",
       "      <th>4241986</th>\n",
       "      <td>CA</td>\n",
       "      <td>2017</td>\n",
       "      <td>2</td>\n",
       "      <td>VENTOLIN H</td>\n",
       "      <td>412633.0</td>\n",
       "    </tr>\n",
       "  </tbody>\n",
       "</table>\n",
       "</div>"
      ],
      "text/plain": [
       "        State  Year Quarter Product Name Number of Prescriptions\n",
       "1330804    CA  2018       1   VENTOLIN H                472466.0\n",
       "4700770    CA  2017       4   VENTOLIN H                452749.0\n",
       "4478001    CA  2017       1   VENTOLIN H                449214.0\n",
       "122514     NY  2016       1   VENTOLIN H                418169.0\n",
       "4241986    CA  2017       2   VENTOLIN H                412633.0"
      ]
     },
     "execution_count": 203,
     "metadata": {},
     "output_type": "execute_result"
    }
   ],
   "source": [
    "df.sort_values(by='Number of Prescriptions', ascending=False).head(5)"
   ]
  },
  {
   "cell_type": "markdown",
   "metadata": {},
   "source": []
  }
 ],
 "metadata": {
  "kernelspec": {
   "display_name": "Python 3",
   "language": "python",
   "name": "python3"
  },
  "language_info": {
   "codemirror_mode": {
    "name": "ipython",
    "version": 3
   },
   "file_extension": ".py",
   "mimetype": "text/x-python",
   "name": "python",
   "nbconvert_exporter": "python",
   "pygments_lexer": "ipython3",
   "version": "3.6.8"
  }
 },
 "nbformat": 4,
 "nbformat_minor": 2
}
