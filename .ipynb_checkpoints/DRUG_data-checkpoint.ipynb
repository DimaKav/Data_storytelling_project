{
 "cells": [
  {
   "cell_type": "markdown",
   "metadata": {},
   "source": [
    "1. Load drug data and process it"
   ]
  },
  {
   "cell_type": "code",
   "execution_count": 4,
   "metadata": {},
   "outputs": [],
   "source": [
    "# Imports\n",
    "\n",
    "import pandas as pd"
   ]
  },
  {
   "cell_type": "code",
   "execution_count": 6,
   "metadata": {},
   "outputs": [],
   "source": [
    "# Load state drug data for 2008 - 2018\n",
    "\n",
    "columns = ['State', 'Year', 'Product Name', 'Quarter Begin Date']\n",
    "filenames = ['State_Drug_Utilization_Data_' + str(i) + '.csv' for i in range(2008, 2019)]\n",
    "\n",
    "df = pd.concat(pd.read_csv(filename, usecols=columns) \n",
    "               for filename in filenames)"
   ]
  },
  {
   "cell_type": "code",
   "execution_count": 7,
   "metadata": {},
   "outputs": [
    {
     "name": "stdout",
     "output_type": "stream",
     "text": [
      "<class 'pandas.core.frame.DataFrame'>\n",
      "Int64Index: 39752112 entries, 0 to 2365964\n",
      "Data columns (total 4 columns):\n",
      "State                 object\n",
      "Year                  int64\n",
      "Product Name          object\n",
      "Quarter Begin Date    object\n",
      "dtypes: int64(1), object(3)\n",
      "memory usage: 7.9 GB\n"
     ]
    }
   ],
   "source": [
    "df.info(memory_usage='deep')"
   ]
  },
  {
   "cell_type": "code",
   "execution_count": 8,
   "metadata": {},
   "outputs": [],
   "source": [
    "# Convert non-numeric columns to category to save memory\n",
    "\n",
    "df[['State', 'Product Name', \n",
    "    'Quarter Begin Date']] = df[['State', \n",
    "                                 'Product Name', \n",
    "                                 'Quarter Begin Date']].astype('category')"
   ]
  },
  {
   "cell_type": "code",
   "execution_count": 9,
   "metadata": {},
   "outputs": [
    {
     "name": "stdout",
     "output_type": "stream",
     "text": [
      "<class 'pandas.core.frame.DataFrame'>\n",
      "Int64Index: 39752112 entries, 0 to 2365964\n",
      "Data columns (total 4 columns):\n",
      "State                 category\n",
      "Year                  int64\n",
      "Product Name          category\n",
      "Quarter Begin Date    category\n",
      "dtypes: category(3), int64(1)\n",
      "memory usage: 837.4 MB\n"
     ]
    }
   ],
   "source": [
    "df.info(memory_usage='deep')"
   ]
  },
  {
   "cell_type": "code",
   "execution_count": 10,
   "metadata": {},
   "outputs": [
    {
     "data": {
      "text/html": [
       "<div>\n",
       "<style scoped>\n",
       "    .dataframe tbody tr th:only-of-type {\n",
       "        vertical-align: middle;\n",
       "    }\n",
       "\n",
       "    .dataframe tbody tr th {\n",
       "        vertical-align: top;\n",
       "    }\n",
       "\n",
       "    .dataframe thead th {\n",
       "        text-align: right;\n",
       "    }\n",
       "</style>\n",
       "<table border=\"1\" class=\"dataframe\">\n",
       "  <thead>\n",
       "    <tr style=\"text-align: right;\">\n",
       "      <th></th>\n",
       "      <th>State</th>\n",
       "      <th>Year</th>\n",
       "      <th>Product Name</th>\n",
       "      <th>Quarter Begin Date</th>\n",
       "    </tr>\n",
       "  </thead>\n",
       "  <tbody>\n",
       "    <tr>\n",
       "      <th>3974679</th>\n",
       "      <td>NC</td>\n",
       "      <td>2016</td>\n",
       "      <td>METFORMIN</td>\n",
       "      <td>10/01/2016</td>\n",
       "    </tr>\n",
       "    <tr>\n",
       "      <th>1855324</th>\n",
       "      <td>MS</td>\n",
       "      <td>2014</td>\n",
       "      <td>ULTRAVIST</td>\n",
       "      <td>10/01/2014</td>\n",
       "    </tr>\n",
       "    <tr>\n",
       "      <th>3685315</th>\n",
       "      <td>NV</td>\n",
       "      <td>2015</td>\n",
       "      <td>Oxycodone</td>\n",
       "      <td>07/01/2015 12:00:00 AM</td>\n",
       "    </tr>\n",
       "    <tr>\n",
       "      <th>3666018</th>\n",
       "      <td>WV</td>\n",
       "      <td>2012</td>\n",
       "      <td>AMOXICILLI</td>\n",
       "      <td>04/01/2012</td>\n",
       "    </tr>\n",
       "    <tr>\n",
       "      <th>2459536</th>\n",
       "      <td>XX</td>\n",
       "      <td>2011</td>\n",
       "      <td>CLEARLAX P</td>\n",
       "      <td>10/01/2011</td>\n",
       "    </tr>\n",
       "    <tr>\n",
       "      <th>136305</th>\n",
       "      <td>AZ</td>\n",
       "      <td>2014</td>\n",
       "      <td>RIZATRIPTA</td>\n",
       "      <td>07/01/2014</td>\n",
       "    </tr>\n",
       "    <tr>\n",
       "      <th>1887776</th>\n",
       "      <td>NM</td>\n",
       "      <td>2011</td>\n",
       "      <td>PREDNISONE</td>\n",
       "      <td>01/01/2011</td>\n",
       "    </tr>\n",
       "    <tr>\n",
       "      <th>756272</th>\n",
       "      <td>LA</td>\n",
       "      <td>2017</td>\n",
       "      <td>CITALOPRAM</td>\n",
       "      <td>04/01/2017 12:00:00 AM</td>\n",
       "    </tr>\n",
       "    <tr>\n",
       "      <th>2187968</th>\n",
       "      <td>MT</td>\n",
       "      <td>2010</td>\n",
       "      <td>LEUCOVORIN</td>\n",
       "      <td>01/01/2010</td>\n",
       "    </tr>\n",
       "    <tr>\n",
       "      <th>1547195</th>\n",
       "      <td>VA</td>\n",
       "      <td>2010</td>\n",
       "      <td>Cefdinir O</td>\n",
       "      <td>07/01/2010</td>\n",
       "    </tr>\n",
       "  </tbody>\n",
       "</table>\n",
       "</div>"
      ],
      "text/plain": [
       "        State  Year Product Name      Quarter Begin Date\n",
       "3974679    NC  2016    METFORMIN              10/01/2016\n",
       "1855324    MS  2014   ULTRAVIST               10/01/2014\n",
       "3685315    NV  2015    Oxycodone  07/01/2015 12:00:00 AM\n",
       "3666018    WV  2012   AMOXICILLI              04/01/2012\n",
       "2459536    XX  2011   CLEARLAX P              10/01/2011\n",
       "136305     AZ  2014   RIZATRIPTA              07/01/2014\n",
       "1887776    NM  2011   PREDNISONE              01/01/2011\n",
       "756272     LA  2017   CITALOPRAM  04/01/2017 12:00:00 AM\n",
       "2187968    MT  2010   LEUCOVORIN              01/01/2010\n",
       "1547195    VA  2010   Cefdinir O              07/01/2010"
      ]
     },
     "execution_count": 10,
     "metadata": {},
     "output_type": "execute_result"
    }
   ],
   "source": [
    "df_samp = df.sample(10)\n",
    "df_samp"
   ]
  },
  {
   "cell_type": "code",
   "execution_count": 141,
   "metadata": {},
   "outputs": [],
   "source": [
    "# TODO:\n",
    "# 1. Convert quarter into 1-4\n",
    "# 2. Do some frequency count plots\n",
    "# 3. See which states use which drugs\n",
    "# 4. Come up with some more questions"
   ]
  }
 ],
 "metadata": {
  "kernelspec": {
   "display_name": "Python 3",
   "language": "python",
   "name": "python3"
  },
  "language_info": {
   "codemirror_mode": {
    "name": "ipython",
    "version": 3
   },
   "file_extension": ".py",
   "mimetype": "text/x-python",
   "name": "python",
   "nbconvert_exporter": "python",
   "pygments_lexer": "ipython3",
   "version": "3.6.8"
  }
 },
 "nbformat": 4,
 "nbformat_minor": 2
}
