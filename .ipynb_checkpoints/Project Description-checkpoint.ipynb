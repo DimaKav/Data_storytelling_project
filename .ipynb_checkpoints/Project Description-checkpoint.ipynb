{
 "cells": [
  {
   "cell_type": "markdown",
   "metadata": {},
   "source": [
    "# Short Summary of my Project\n",
    "\n",
    "The goal for this project was twofold. One was to find out what types of drugs people are taking. Two, was to find out why they are taking them. In order to answer these questions, I needed to find some data that had names of drugs and numbers of prescriptions. The Medicaid Drug Utilization dataset seemed to be the best for this type of analysis because it's freely accessible from the Medicaid website, has a good sample size for my purposes, and a wide range of features."
   ]
  }
 ],
 "metadata": {
  "kernelspec": {
   "display_name": "Python 3",
   "language": "python",
   "name": "python3"
  },
  "language_info": {
   "codemirror_mode": {
    "name": "ipython",
    "version": 3
   },
   "file_extension": ".py",
   "mimetype": "text/x-python",
   "name": "python",
   "nbconvert_exporter": "python",
   "pygments_lexer": "ipython3",
   "version": "3.6.8"
  }
 },
 "nbformat": 4,
 "nbformat_minor": 2
}
