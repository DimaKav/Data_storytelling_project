{
 "cells": [
  {
   "cell_type": "markdown",
   "metadata": {},
   "source": [
    "1. Load drug data and process it"
   ]
  },
  {
   "cell_type": "code",
   "execution_count": 1,
   "metadata": {},
   "outputs": [],
   "source": [
    "# Imports\n",
    "\n",
    "import pandas as pd"
   ]
  },
  {
   "cell_type": "code",
   "execution_count": 123,
   "metadata": {},
   "outputs": [],
   "source": [
    "# Load state drug data for 2008 - 2018\n",
    "\n",
    "columns = ['State', 'Year', 'Product Name', 'Quarter Begin Date']\n",
    "filenames = ['State_Drug_Utilization_Data_' + str(i) + '.csv' for i in range(2008, 2019)]\n",
    "\n",
    "df = pd.concat(pd.read_csv(filename, usecols=columns) \n",
    "               for filename in filenames)"
   ]
  },
  {
   "cell_type": "code",
   "execution_count": 131,
   "metadata": {},
   "outputs": [
    {
     "name": "stdout",
     "output_type": "stream",
     "text": [
      "<class 'pandas.core.frame.DataFrame'>\n",
      "Int64Index: 39752112 entries, 0 to 2365964\n",
      "Data columns (total 4 columns):\n",
      "State                 object\n",
      "Year                  int64\n",
      "Product Name          object\n",
      "Quarter Begin Date    object\n",
      "dtypes: int64(1), object(3)\n",
      "memory usage: 7.9 GB\n"
     ]
    }
   ],
   "source": [
    "df.info(memory_usage='deep')"
   ]
  },
  {
   "cell_type": "code",
   "execution_count": 134,
   "metadata": {},
   "outputs": [],
   "source": [
    "# Convert non-numeric columns to category to save memory\n",
    "\n",
    "df[['State', 'Product Name', \n",
    "    'Quarter Begin Date']] = df[['State', \n",
    "                                 'Product Name', \n",
    "                                 'Quarter Begin Date']].astype('category')"
   ]
  },
  {
   "cell_type": "code",
   "execution_count": 136,
   "metadata": {},
   "outputs": [
    {
     "name": "stdout",
     "output_type": "stream",
     "text": [
      "<class 'pandas.core.frame.DataFrame'>\n",
      "Int64Index: 39752112 entries, 0 to 2365964\n",
      "Data columns (total 4 columns):\n",
      "State                 category\n",
      "Year                  int64\n",
      "Product Name          category\n",
      "Quarter Begin Date    category\n",
      "dtypes: category(3), int64(1)\n",
      "memory usage: 837.4 MB\n"
     ]
    }
   ],
   "source": [
    "df.info(memory_usage='deep')"
   ]
  },
  {
   "cell_type": "code",
   "execution_count": 139,
   "metadata": {},
   "outputs": [
    {
     "data": {
      "text/html": [
       "<div>\n",
       "<style scoped>\n",
       "    .dataframe tbody tr th:only-of-type {\n",
       "        vertical-align: middle;\n",
       "    }\n",
       "\n",
       "    .dataframe tbody tr th {\n",
       "        vertical-align: top;\n",
       "    }\n",
       "\n",
       "    .dataframe thead th {\n",
       "        text-align: right;\n",
       "    }\n",
       "</style>\n",
       "<table border=\"1\" class=\"dataframe\">\n",
       "  <thead>\n",
       "    <tr style=\"text-align: right;\">\n",
       "      <th></th>\n",
       "      <th>State</th>\n",
       "      <th>Year</th>\n",
       "      <th>Product Name</th>\n",
       "      <th>Quarter Begin Date</th>\n",
       "    </tr>\n",
       "  </thead>\n",
       "  <tbody>\n",
       "    <tr>\n",
       "      <th>2607158</th>\n",
       "      <td>NY</td>\n",
       "      <td>2014</td>\n",
       "      <td>OLANZAPINE</td>\n",
       "      <td>01/01/2014</td>\n",
       "    </tr>\n",
       "    <tr>\n",
       "      <th>2485375</th>\n",
       "      <td>NM</td>\n",
       "      <td>2013</td>\n",
       "      <td>HYPERCARE</td>\n",
       "      <td>10/01/2013</td>\n",
       "    </tr>\n",
       "    <tr>\n",
       "      <th>1788539</th>\n",
       "      <td>MO</td>\n",
       "      <td>2013</td>\n",
       "      <td>DERMA-SMOO</td>\n",
       "      <td>04/01/2013</td>\n",
       "    </tr>\n",
       "    <tr>\n",
       "      <th>1145790</th>\n",
       "      <td>KY</td>\n",
       "      <td>2013</td>\n",
       "      <td>PREDNISONE</td>\n",
       "      <td>01/01/2013</td>\n",
       "    </tr>\n",
       "    <tr>\n",
       "      <th>3920314</th>\n",
       "      <td>RI</td>\n",
       "      <td>2014</td>\n",
       "      <td>Q-TUSSIN D</td>\n",
       "      <td>04/01/2014</td>\n",
       "    </tr>\n",
       "    <tr>\n",
       "      <th>1967635</th>\n",
       "      <td>XX</td>\n",
       "      <td>2014</td>\n",
       "      <td>PRILOSEC 4</td>\n",
       "      <td>10/01/2014</td>\n",
       "    </tr>\n",
       "    <tr>\n",
       "      <th>1347090</th>\n",
       "      <td>NY</td>\n",
       "      <td>2016</td>\n",
       "      <td>LEVOBUNOLO</td>\n",
       "      <td>04/01/2016</td>\n",
       "    </tr>\n",
       "    <tr>\n",
       "      <th>1064667</th>\n",
       "      <td>VA</td>\n",
       "      <td>2009</td>\n",
       "      <td>CENTURY SE</td>\n",
       "      <td>10/01/2009</td>\n",
       "    </tr>\n",
       "    <tr>\n",
       "      <th>1711818</th>\n",
       "      <td>MN</td>\n",
       "      <td>2014</td>\n",
       "      <td>SODIUM CIT</td>\n",
       "      <td>10/01/2014</td>\n",
       "    </tr>\n",
       "    <tr>\n",
       "      <th>1937982</th>\n",
       "      <td>MT</td>\n",
       "      <td>2013</td>\n",
       "      <td>RISPERIDON</td>\n",
       "      <td>10/01/2013</td>\n",
       "    </tr>\n",
       "  </tbody>\n",
       "</table>\n",
       "</div>"
      ],
      "text/plain": [
       "        State  Year Product Name Quarter Begin Date\n",
       "2607158    NY  2014   OLANZAPINE         01/01/2014\n",
       "2485375    NM  2013   HYPERCARE          10/01/2013\n",
       "1788539    MO  2013   DERMA-SMOO         04/01/2013\n",
       "1145790    KY  2013   PREDNISONE         01/01/2013\n",
       "3920314    RI  2014   Q-TUSSIN D         04/01/2014\n",
       "1967635    XX  2014   PRILOSEC 4         10/01/2014\n",
       "1347090    NY  2016   LEVOBUNOLO         04/01/2016\n",
       "1064667    VA  2009   CENTURY SE         10/01/2009\n",
       "1711818    MN  2014   SODIUM CIT         10/01/2014\n",
       "1937982    MT  2013   RISPERIDON         10/01/2013"
      ]
     },
     "execution_count": 139,
     "metadata": {},
     "output_type": "execute_result"
    }
   ],
   "source": [
    "df_samp = df.sample(10)\n",
    "df_samp"
   ]
  },
  {
   "cell_type": "code",
   "execution_count": 141,
   "metadata": {},
   "outputs": [],
   "source": [
    "# TODO:\n",
    "# 1. Convert quarter into 1-4\n",
    "# 2. Do some frequency count plots\n",
    "# 3. See which states use which drugs\n",
    "# 4. Come up with some more questions asdas"
   ]
  }
 ],
 "metadata": {
  "kernelspec": {
   "display_name": "Python 3",
   "language": "python",
   "name": "python3"
  },
  "language_info": {
   "codemirror_mode": {
    "name": "ipython",
    "version": 3
   },
   "file_extension": ".py",
   "mimetype": "text/x-python",
   "name": "python",
   "nbconvert_exporter": "python",
   "pygments_lexer": "ipython3",
   "version": "3.6.8"
  }
 },
 "nbformat": 4,
 "nbformat_minor": 2
}
